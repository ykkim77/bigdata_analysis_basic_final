{
  "cells": [
    {
      "cell_type": "code",
      "execution_count": null,
      "metadata": {
        "id": "yBy8A1dS3Slc"
      },
      "outputs": [],
      "source": [
        "from sklearn import datasets\n",
        "from sklearn.cluster import KMeans\n",
        "import pandas as pd\n",
        "import numpy as np\n",
        "import matplotlib.pyplot as plt"
      ]
    },
    {
      "cell_type": "code",
      "execution_count": null,
      "metadata": {
        "id": "9yMX-zNhN20w"
      },
      "outputs": [],
      "source": [
        "iris = datasets.load_iris()\n",
        "df_X=pd.DataFrame(iris.data)\n",
        "df_Y=pd.DataFrame(iris.target)"
      ]
    },
    {
      "cell_type": "code",
      "execution_count": null,
      "metadata": {
        "id": "6E4ODBckRoad"
      },
      "outputs": [],
      "source": [
        "sse_per_n = []\n",
        "\n",
        "##문제1) 최적의 k를 구하는 순환(for문)코드를 작성하시오.\n",
        "##      k의 범위는 1~12, 2간격으로 입력\n",
        "\n",
        "\n"
      ]
    },
    {
      "cell_type": "code",
      "execution_count": null,
      "metadata": {
        "id": "AwFl6DIAOOBM"
      },
      "outputs": [],
      "source": [
        "##문제2) 다음 코드를 사용하여 “Sum of Sqaured Error” 그래프를 그리고, 이 그래프를 사용하여 최적 군집의 수를 설명하시오. \n",
        "\n",
        "plt.plot(range(1, 12, 2), sse_per_n)\n",
        "plt.title(\"Sum of Sqaured Error\")"
      ]
    }
  ],
  "metadata": {
    "accelerator": "GPU",
    "colab": {
      "collapsed_sections": [],
      "include_colab_link": true,
      "machine_shape": "hm",
      "name": "기말레포트(비지도학습)_문제지.ipynb",
      "provenance": []
    },
    "kernelspec": {
      "display_name": "Python 3",
      "name": "python3"
    },
    "language_info": {
      "name": "python"
    }
  },
  "nbformat": 4,
  "nbformat_minor": 0
}
