{
  "nbformat": 4,
  "nbformat_minor": 0,
  "metadata": {
    "colab": {
      "name": "기말레포트(비지도학습)_문제지.ipynb",
      "provenance": [],
      "collapsed_sections": [],
      "machine_shape": "hm",
      "include_colab_link": true
    },
    "kernelspec": {
      "name": "python3",
      "display_name": "Python 3"
    },
    "language_info": {
      "name": "python"
    },
    "accelerator": "GPU"
  },
  "cells": [
    {
      "cell_type": "markdown",
      "metadata": {
        "id": "view-in-github",
        "colab_type": "text"
      },
      "source": [
        "<a href=\"https://colab.research.google.com/github/aettikang/bigdata_analysis_basic/blob/main/%EA%B8%B0%EB%A7%90%EB%A0%88%ED%8F%AC%ED%8A%B8(%EB%B9%84%EC%A7%80%EB%8F%84%ED%95%99%EC%8A%B5)_%EB%AC%B8%EC%A0%9C%EC%A7%80.ipynb\" target=\"_parent\"><img src=\"https://colab.research.google.com/assets/colab-badge.svg\" alt=\"Open In Colab\"/></a>"
      ]
    },
    {
      "cell_type": "code",
      "metadata": {
        "id": "yBy8A1dS3Slc"
      },
      "source": [
        "from sklearn import datasets\n",
        "from sklearn.cluster import KMeans\n",
        "import pandas as pd\n",
        "import numpy as np\n",
        "import matplotlib.pyplot as plt"
      ],
      "execution_count": null,
      "outputs": []
    },
    {
      "cell_type": "code",
      "source": [
        "iris = datasets.load_iris()\n",
        "df_X=pd.DataFrame(iris.data)\n",
        "df_Y=pd.DataFrame(iris.target)"
      ],
      "metadata": {
        "id": "9yMX-zNhN20w"
      },
      "execution_count": null,
      "outputs": []
    },
    {
      "cell_type": "code",
      "metadata": {
        "id": "6E4ODBckRoad"
      },
      "source": [
        "sse_per_n = []\n",
        "\n",
        "##문제1) 최적의 k를 구하는 순환(for문)코드를 작성하시오.\n",
        "##      k의 범위는 1~12, 2간격으로 입력\n",
        "\n",
        "\n"
      ],
      "execution_count": null,
      "outputs": []
    },
    {
      "cell_type": "code",
      "source": [
        "##문제2) 다음 코드를 사용하여 “Sum of Sqaured Error” 그래프를 그리고, 이 그래프를 사용하여 최적 군집의 수를 설명하시오. \n",
        "\n",
        "plt.plot(range(1, 12, 2), sse_per_n)\n",
        "plt.title(\"Sum of Sqaured Error\")"
      ],
      "metadata": {
        "id": "AwFl6DIAOOBM"
      },
      "execution_count": null,
      "outputs": []
    }
  ]
}