{
  "cells": [
    {
      "cell_type": "code",
      "execution_count": null,
      "metadata": {
        "id": "yBy8A1dS3Slc"
      },
      "outputs": [],
      "source": [
        "from sklearn.datasets import load_breast_cancer \n",
        "cancer=load_breast_cancer()\n",
        "#독립변수\n",
        "X = cancer.data\n",
        "#종속변수\n",
        "y = cancer.target"
      ]
    },
    {
      "cell_type": "code",
      "execution_count": null,
      "metadata": {
        "id": "6E4ODBckRoad"
      },
      "outputs": [],
      "source": [
        "##문제1) 데이터셋을 트레이닝데이터(X_train, y_train)와 테스트데이터(X_test, y_test)로 분리\n",
        "##조건\n",
        "# 1) 종속변수(y) 데이터의 비율을 유지함\n",
        "# 2) 트레이닝데이터와 테스트데이터 분리 비율은 70:30\n",
        "# 2) random_state = 1\n",
        "\n"
      ]
    },
    {
      "cell_type": "code",
      "execution_count": null,
      "metadata": {
        "id": "oDhwvbvGUXUw"
      },
      "outputs": [],
      "source": [
        "from sklearn.preprocessing import MinMaxScaler \n",
        "scaler=MinMaxScaler() "
      ]
    },
    {
      "cell_type": "code",
      "execution_count": null,
      "metadata": {
        "id": "gEb6DzIaUY1t"
      },
      "outputs": [],
      "source": [
        "##문제2) 커널의 형태가 rbf, 선형, 다항인 SVM모델을 각각 만들기\n",
        "rbf_model = SVC(kernel=\"\")\n",
        "linear_model = SVC(kernel=\"\")\n",
        "poly_model = SVC(kernel=\"\")\n"
      ]
    },
    {
      "cell_type": "code",
      "execution_count": null,
      "metadata": {
        "id": "10Kqk3Yy7bbN"
      },
      "outputs": [],
      "source": [
        "from sklearn.pipeline import Pipeline\n",
        "from sklearn.model_selection import KFold,GridSearchCV \n",
        "\n",
        "##문제3) 다음 파이프라인에 base_model을 순서대로 추가하여 실행한 결과를 문제지의 표 형태로 정리하시오.\n",
        "### 다음 코드를 base_model만 변경하여 총 3번 실행하시면 됩니다. \n",
        "#### (1) rbf 모델(rbf_model)  (2)선형모델(linear_model)  (3) 다항모델(poly_model)\n",
        "pipe=Pipeline([('scaler',scaler), ('base_model', )])\n",
        "\n",
        "kfold=KFold(n_splits=4, shuffle=True, random_state=1)\n",
        "\n",
        "param_grid={'base_model__C':[0.0001, 0.001, 0.01, 0.1, 1, 10, 100, 1000],\n",
        "            'base_model__gamma':[0.0001, 0.001, 0.01, 0.1, 1, 10, 100, 1000],\n",
        "            'base_model__degree':[1,2,3,4,5]}\n",
        "\n",
        "grid_model=GridSearchCV(estimator=pipe, param_grid=param_grid, cv=kfold, n_jobs=-1).fit(X_train, y_train)\n",
        "\n",
        "\n",
        "print('교차검증 점수 : ', grid_model.best_score_) \n",
        "print('최적의 하이퍼 파라메터 조합 :', grid_model.best_params_) "
      ]
    },
    {
      "cell_type": "code",
      "execution_count": null,
      "metadata": {
        "id": "qFjyRLE65tHA"
      },
      "outputs": [],
      "source": [
        "##문제4)각 모델의 하이퍼파라미터를 사용하여 SVM모델을 만들고, 학습시켜 테스트데이터에 대한 예측값을 생성하시오. \n",
        "##      예측값과 테스트데이터셋의 종속변수값(groud truth)를 분류결과레포트(classification_report)에 입력하여 모델을 평가하는 표로 정리하시오.\n",
        "\n",
        "from sklearn.metrics import classification_report\n",
        "\n",
        "seed = 1\n",
        "#파라미터 수정부분(아래 값은 예시임, 문제3에서 입력한 3개 모델의 최적의 파라미터 값을 입력해야 함)\n",
        "svc_prams ={\n",
        "    'C': 0.001,\n",
        "    'degree': 1,\n",
        "    'gamma' : 1000,\n",
        "    'random_state' : seed\n",
        "}\n",
        "\n",
        "###답 추가부분 \n",
        "##(1) A부분을 삭제한 후 각 모델의 커널을 입력. 예를 들어 rbf_model의 경우 rbf 입력하면 됨\n",
        "svm_model = SVC(kernel=\"A\", **svc_prams)\n",
        "##(2)svm_model을 트레이닝 데이터로 학습\n",
        "\n",
        "##(3)테스트데이터셋으로 예측하여 예측값(svm_prediction) 산출\n",
        "\n",
        "##(4)classification_report 함수로 테스트셋과 예측값 비교\n"
      ]
    }
  ],
  "metadata": {
    "accelerator": "GPU",
    "colab": {
      "collapsed_sections": [],
      "include_colab_link": true,
      "machine_shape": "hm",
      "name": "기말레포트(지도학습)_문제지.ipynb",
      "provenance": []
    },
    "kernelspec": {
      "display_name": "Python 3",
      "name": "python3"
    },
    "language_info": {
      "name": "python"
    }
  },
  "nbformat": 4,
  "nbformat_minor": 0
}
